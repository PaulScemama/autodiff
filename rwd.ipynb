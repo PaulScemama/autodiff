{
 "cells": [
  {
   "cell_type": "code",
   "execution_count": 1,
   "metadata": {},
   "outputs": [],
   "source": [
    "from reverse_v3 import Node, grad, sin, cos, recursive_add\n",
    "\n",
    "import jax\n",
    "import jax.numpy as jnp"
   ]
  },
  {
   "cell_type": "code",
   "execution_count": 2,
   "metadata": {},
   "outputs": [
    {
     "name": "stdout",
     "output_type": "stream",
     "text": [
      "(9.862720752813258, 0.0, 6.048825908847379)\n"
     ]
    },
    {
     "data": {
      "text/plain": [
       "{'x': Array(9.8627205, dtype=float32, weak_type=True),\n",
       " 'y': Array(0., dtype=float32, weak_type=True),\n",
       " 'z': Array(6.0488257, dtype=float32, weak_type=True)}"
      ]
     },
     "execution_count": 2,
     "metadata": {},
     "output_type": "execute_result"
    }
   ],
   "source": [
    "x, y, z = Node(1.0), Node(2.0), Node(3.0)\n",
    "\n",
    "def jax_f(inputs):\n",
    "    x, y, z = inputs['x'], inputs['y'], inputs['z']\n",
    "    a = x * y\n",
    "    b = x * x\n",
    "    c = z * z * jnp.sin(x)\n",
    "    d = z - y + x\n",
    "    return a + b + c + d\n",
    "\n",
    "def f(x, y, z):\n",
    "    a = x * y\n",
    "    b = x * x\n",
    "    c = z * z * sin(x)\n",
    "    d = z - y + x\n",
    "    return recursive_add(a, b, c, d)\n",
    "\n",
    "print(grad(f, at=(x, y, z)))\n",
    "jax.grad(jax_f)({\"x\": 1.0, \"y\": 2.0, \"z\": 3.0})"
   ]
  },
  {
   "cell_type": "code",
   "execution_count": null,
   "metadata": {},
   "outputs": [],
   "source": []
  }
 ],
 "metadata": {
  "kernelspec": {
   "display_name": ".venv",
   "language": "python",
   "name": "python3"
  },
  "language_info": {
   "codemirror_mode": {
    "name": "ipython",
    "version": 3
   },
   "file_extension": ".py",
   "mimetype": "text/x-python",
   "name": "python",
   "nbconvert_exporter": "python",
   "pygments_lexer": "ipython3",
   "version": "3.11.2"
  }
 },
 "nbformat": 4,
 "nbformat_minor": 2
}
