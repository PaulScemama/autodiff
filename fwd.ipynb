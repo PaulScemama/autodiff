{
 "cells": [
  {
   "cell_type": "code",
   "execution_count": 1,
   "metadata": {},
   "outputs": [],
   "source": [
    "from typing import Callable, Tuple\n",
    "\n",
    "from fwd import Variable\n"
   ]
  },
  {
   "cell_type": "code",
   "execution_count": 13,
   "metadata": {},
   "outputs": [
    {
     "name": "stdout",
     "output_type": "stream",
     "text": [
      "out: [-9, 3]\n",
      "dx: 3\n",
      "dy: -9\n",
      "dz: -6\n"
     ]
    }
   ],
   "source": [
    "# (x - y) * z + z * (y-x)\n",
    "\n",
    "## dfdx @ x=1, y=2, z=3\n",
    "x = Variable(1, 1)\n",
    "y = Variable(2)\n",
    "z = Variable(3)\n",
    "out = (x - y) * z * z + z * (y - x * y)\n",
    "print(f\"out: {out}\")\n",
    "print(f\"dx: {out.dv}\")\n",
    "\n",
    "## dfdy @ x=1, y=2, z=3\n",
    "x = Variable(1)\n",
    "y = Variable(2, 1)\n",
    "z = Variable(3)\n",
    "out = (x - y) * z * z+ z * (y - x * y)\n",
    "print(f\"dy: {out.dv}\")\n",
    "\n",
    "## dfdz @ x=1, y=2, z=3\n",
    "x = Variable(1)\n",
    "y = Variable(2)\n",
    "z = Variable(3, 1)\n",
    "out = (x - y) * z * z+ z * (y - x * y)\n",
    "print(f\"dz: {out.dv}\")"
   ]
  },
  {
   "cell_type": "markdown",
   "metadata": {},
   "source": [
    "$$\n",
    "f(x,y,z) = z^2(x-y) + z(y-xy)\\\\\n",
    "$$\n",
    "\n",
    "$$\n",
    "\\begin{aligned}\n",
    "f_x &= z^2 - zy \\\\\n",
    "f_y &= -z^2 + z(1-x) \\\\\n",
    "f_z &= 2z(x-y) + (y-xy)\n",
    "\\end{aligned}\n",
    "$$\n",
    "\n",
    "$$\n",
    "\\begin{aligned}\n",
    "f_x(1,2,3) &= 3(3) - 3(2) = 3 \\\\\n",
    "f_y(1,2,3) &= -9 + 3(1-1) = -9 \\\\\n",
    "f_z(1,2,3) &= 6(1-2) = -6 \\\\\n",
    "\\end{aligned}\n",
    "$$"
   ]
  }
 ],
 "metadata": {
  "kernelspec": {
   "display_name": ".venv",
   "language": "python",
   "name": "python3"
  },
  "language_info": {
   "codemirror_mode": {
    "name": "ipython",
    "version": 3
   },
   "file_extension": ".py",
   "mimetype": "text/x-python",
   "name": "python",
   "nbconvert_exporter": "python",
   "pygments_lexer": "ipython3",
   "version": "3.11.2"
  },
  "orig_nbformat": 4
 },
 "nbformat": 4,
 "nbformat_minor": 2
}
