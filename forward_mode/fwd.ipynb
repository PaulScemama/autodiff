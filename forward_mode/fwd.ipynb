{
 "cells": [
  {
   "cell_type": "code",
   "execution_count": 8,
   "metadata": {},
   "outputs": [],
   "source": [
    "import fwd"
   ]
  },
  {
   "cell_type": "markdown",
   "metadata": {},
   "source": [
    "$$\n",
    "f(x,y,z) = z^2(x-y) + z(y-xy)\\\\\n",
    "$$\n",
    "\n",
    "$$\n",
    "\\begin{aligned}\n",
    "f_x &= z^2 - zy \\\\\n",
    "f_y &= -z^2 + z(1-x) \\\\\n",
    "f_z &= 2z(x-y) + (y-xy)\n",
    "\\end{aligned}\n",
    "$$\n",
    "\n",
    "$$\n",
    "\\begin{aligned}\n",
    "f_x(1,2,3) &= 3(3) - 3(2) = 3 \\\\\n",
    "f_y(1,2,3) &= -9 + 3(1-1) = -9 \\\\\n",
    "f_z(1,2,3) &= 6(1-2) = -6 \\\\\n",
    "\\end{aligned}\n",
    "$$"
   ]
  },
  {
   "cell_type": "code",
   "execution_count": 9,
   "metadata": {},
   "outputs": [
    {
     "name": "stdout",
     "output_type": "stream",
     "text": [
      "(-9, [3, -9, -6])\n",
      "(-32, [8, 20, -24, -8, -4])\n"
     ]
    }
   ],
   "source": [
    "def f(x, y, z):\n",
    "    return z * z * (x - y) + z * (y - x * y)\n",
    "print(fwd.value_and_grad(f, at=(1, 2, 3)))\n",
    "\n",
    "\n",
    "def f(x, y, z, p, q):\n",
    "    o1 = x + y\n",
    "    o2 = o1 * y - z * z\n",
    "    o3 = o2 * p - (p * q)\n",
    "    return o3\n",
    "print(fwd.value_and_grad(f, at=(1,2,3,4,5)))"
   ]
  }
 ],
 "metadata": {
  "kernelspec": {
   "display_name": ".venv",
   "language": "python",
   "name": "python3"
  },
  "language_info": {
   "codemirror_mode": {
    "name": "ipython",
    "version": 3
   },
   "file_extension": ".py",
   "mimetype": "text/x-python",
   "name": "python",
   "nbconvert_exporter": "python",
   "pygments_lexer": "ipython3",
   "version": "3.11.2"
  },
  "orig_nbformat": 4
 },
 "nbformat": 4,
 "nbformat_minor": 2
}
